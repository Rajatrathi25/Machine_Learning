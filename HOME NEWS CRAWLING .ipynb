{
 "cells": [
  {
   "cell_type": "code",
   "execution_count": 19,
   "metadata": {},
   "outputs": [],
   "source": [
    "import bs4\n",
    "import urllib.request as req\n",
    "import webbrowser"
   ]
  },
  {
   "cell_type": "code",
   "execution_count": 20,
   "metadata": {},
   "outputs": [],
   "source": [
    "def movies():\n",
    "    link='https://www.indiatoday.in/'+name\n",
    "    httpresponse=req.urlopen(link)\n",
    "    #webbrowser.open(link)\n",
    "    page=bs4.BeautifulSoup(httpresponse)\n",
    "    #page\n",
    "    data=page.find('div',class_='row itg-common-section')\n",
    "    #print(data)\n",
    "    j=1\n",
    "    link=data.find_all('p')\n",
    "    for i in link:\n",
    "        print(str(j)+'.'+i.text)\n",
    "        j+=1\n",
    "#link=data.find_all.('a')[3]['href']\n",
    "#print(link)\n",
    "    "
   ]
  },
  {
   "cell_type": "code",
   "execution_count": 21,
   "metadata": {},
   "outputs": [],
   "source": [
    "def tech():\n",
    "    link='https://www.indiatoday.in/'+name\n",
    "    httpresponse=req.urlopen(link)\n",
    "    #webbrowser.open(link)\n",
    "    page=bs4.BeautifulSoup(httpresponse)\n",
    "    page\n",
    "    data=page.find('div',class_='special-top-news')\n",
    "    #print(data)\n",
    "    info=data.find_all('li')\n",
    "    j=1\n",
    "    for i in info:\n",
    "        print(str(j)+'.'+i.text)\n",
    "        j+=1"
   ]
  },
  {
   "cell_type": "code",
   "execution_count": 22,
   "metadata": {},
   "outputs": [],
   "source": [
    "def sports():\n",
    "    link='https://www.indiatoday.in/'+name\n",
    "    httpresponse=req.urlopen(link)\n",
    "    #webbrowser.open(link)\n",
    "    page=bs4.BeautifulSoup(httpresponse)\n",
    "    #print(page)\n",
    "    data=page.find('div',class_='special-top-news')\n",
    "    #print(data)\n",
    "    info=data.find_all('li')\n",
    "    j=1\n",
    "    for i in info:\n",
    "        print(str(j)+'.'+i.text)\n",
    "        j+=1"
   ]
  },
  {
   "cell_type": "code",
   "execution_count": 23,
   "metadata": {},
   "outputs": [],
   "source": [
    "def trending():\n",
    "    link='https://www.indiatoday.in/'+name\n",
    "    httpresponse=req.urlopen(link)\n",
    "    #webbrowser.open(link)\n",
    "    page=bs4.BeautifulSoup(httpresponse)\n",
    "    #print(page)\n",
    "    data=page.find('div',class_='view-content')\n",
    "    info=data.find_all('h2')\n",
    "    j=1\n",
    "    for i in info:\n",
    "        print(str(j)+'.'+i.text)\n",
    "        j+=1"
   ]
  },
  {
   "cell_type": "code",
   "execution_count": 26,
   "metadata": {},
   "outputs": [
    {
     "name": "stdout",
     "output_type": "stream",
     "text": [
      "Enter the category of News - movies , sports , technology, trending trending\n",
      "1.Two bikers miraculously escape a Tiger attack. Watch the hair raising video \n",
      "2.India vs England match on now. Best memes on the Internet\n",
      "3.India vs England World Cup match on. Pakistan trends Jai Hind online to root for India\n",
      "4.Google Maps glitch leads hundreds of drivers to the middle of nowhere. Twitter can relate\n",
      "5.Smriti Irani shares hilarious Sunday jitters meme. Internet can relate\n",
      "6.Shah Rukh's Dutch fan sings his songs flawlessly. Has King Khan seen these videos?\n",
      "7.Woman dies, is brought back to life after 27 minutes. Her message is spine-chilling\n",
      "8.Smriti Irani shares adorable throwback pic of son. You are a lucky mother, he replies\n",
      "9.Dalai Lama says if his successor is woman, she has to be attractive. Internet is furious\n",
      "10.Air India flight has bomb in bag, says threat. Plane grounded in UK, bags in Mumbai. Twitter explodes\n",
      "11.Man goes to Canada to find wife's Rs 6.9 lakh lost wedding ring. Move over, Jab Harry Met Sejal\n",
      "12.Even Narad and the gods are praising PM Narendra Modi in a viral video. Seen yet?\n"
     ]
    }
   ],
   "source": [
    "name=input(\"Enter the category of News - movies , sports , technology, trending \")\n",
    "def main():\n",
    "    if name == 'movies':\n",
    "        movies()\n",
    "    elif name == 'sports':\n",
    "        sports()\n",
    "    elif name == 'technology':\n",
    "        tech()\n",
    "    elif name == 'trending':\n",
    "        trending()\n",
    "    else:\n",
    "        print(\"Kindly Select From The Category \")\n",
    "main()"
   ]
  },
  {
   "cell_type": "code",
   "execution_count": null,
   "metadata": {},
   "outputs": [],
   "source": []
  }
 ],
 "metadata": {
  "kernelspec": {
   "display_name": "Python 3",
   "language": "python",
   "name": "python3"
  },
  "language_info": {
   "codemirror_mode": {
    "name": "ipython",
    "version": 3
   },
   "file_extension": ".py",
   "mimetype": "text/x-python",
   "name": "python",
   "nbconvert_exporter": "python",
   "pygments_lexer": "ipython3",
   "version": "3.7.3"
  }
 },
 "nbformat": 4,
 "nbformat_minor": 2
}
