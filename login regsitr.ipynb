{
 "cells": [
  {
   "cell_type": "code",
   "execution_count": 1,
   "metadata": {},
   "outputs": [],
   "source": [
    "import csv"
   ]
  },
  {
   "cell_type": "code",
   "execution_count": 9,
   "metadata": {},
   "outputs": [],
   "source": [
    "def register():\n",
    "    username=input(\"Enter the User name \")\n",
    "    password=input(\"Enter the password \")\n",
    "    details={\n",
    "        'user':username,'pass':password}\n",
    "    with open('register.csv','a',newline='') as file:\n",
    "        writer=csv.writer(file)\n",
    "        with open ('register.csv') as file:\n",
    "            reader=csv.reader(file)\n",
    "            for data in reader:\n",
    "                if data[0] == username and data[1] == password:\n",
    "                    print(\"already registerd\")\n",
    "                    break\n",
    "            else:\n",
    "                writer.writerow(details.values())"
   ]
  },
  {
   "cell_type": "code",
   "execution_count": 10,
   "metadata": {},
   "outputs": [],
   "source": [
    "def login():\n",
    "    username=input(\"Enter the User name \")\n",
    "    password=input(\"Enter the password \")\n",
    "    newemplist=[]\n",
    "    with open ('register.csv') as file:\n",
    "        reader=csv.reader(file)\n",
    "        for data in reader:\n",
    "           # print (data)\n",
    "            if data[0] == username and data[1] == password:\n",
    "                print(\"Login Succesfull\")\n",
    "                break\n",
    "        else:\n",
    "                print(\" PLEASE!! Enter correct username and password\")\n",
    "                login()\n",
    "            #emp={'name':data[0],'age':data[1],'salary':data[2]}\n",
    "            #newemplist.append(emp)"
   ]
  },
  {
   "cell_type": "code",
   "execution_count": 11,
   "metadata": {},
   "outputs": [
    {
     "name": "stdout",
     "output_type": "stream",
     "text": [
      "Enter 1 for Registration and 2 for Login 1\n",
      "Enter the User name moksh\n",
      "Enter the password moksh1\n",
      "Press 2 for login and 3 for exit2\n",
      "Enter the User name moksh\n",
      "Enter the password moksh1\n",
      "Login Succesfull\n"
     ]
    }
   ],
   "source": [
    "def main():\n",
    "    ask=int(input(\"Enter 1 for Registration and 2 for Login \"))\n",
    "    if ask == 1:\n",
    "        register()\n",
    "        cont=int(input('Press 2 for login and 3 for exit'))\n",
    "        if cont == 2:\n",
    "            login()\n",
    "        elif cont == 3:\n",
    "            exit(0)\n",
    "    elif ask == 2:\n",
    "        login()\n",
    "    else:\n",
    "        print('Invalid INPUT')\n",
    "main()           "
   ]
  },
  {
   "cell_type": "markdown",
   "metadata": {},
   "source": []
  }
 ],
 "metadata": {
  "kernelspec": {
   "display_name": "Python 3",
   "language": "python",
   "name": "python3"
  },
  "language_info": {
   "codemirror_mode": {
    "name": "ipython",
    "version": 3
   },
   "file_extension": ".py",
   "mimetype": "text/x-python",
   "name": "python",
   "nbconvert_exporter": "python",
   "pygments_lexer": "ipython3",
   "version": "3.7.3"
  }
 },
 "nbformat": 4,
 "nbformat_minor": 2
}
